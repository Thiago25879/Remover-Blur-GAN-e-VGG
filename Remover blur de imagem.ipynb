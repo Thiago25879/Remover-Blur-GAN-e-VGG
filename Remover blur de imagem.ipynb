{
 "cells": [
  {
   "cell_type": "code",
   "execution_count": 1,
   "id": "4abb58e6",
   "metadata": {},
   "outputs": [
    {
     "name": "stdout",
     "output_type": "stream",
     "text": [
      "Requirement already satisfied: tensorflow in /home/thiago/anaconda3/lib/python3.9/site-packages (2.8.0)\n",
      "Requirement already satisfied: h5py>=2.9.0 in /home/thiago/anaconda3/lib/python3.9/site-packages (from tensorflow) (3.3.0)\n",
      "Requirement already satisfied: wrapt>=1.11.0 in /home/thiago/anaconda3/lib/python3.9/site-packages (from tensorflow) (1.12.1)\n",
      "Requirement already satisfied: protobuf>=3.9.2 in /home/thiago/anaconda3/lib/python3.9/site-packages (from tensorflow) (3.19.4)\n",
      "Requirement already satisfied: absl-py>=0.4.0 in /home/thiago/anaconda3/lib/python3.9/site-packages (from tensorflow) (1.0.0)\n",
      "Requirement already satisfied: typing-extensions>=3.6.6 in /home/thiago/anaconda3/lib/python3.9/site-packages (from tensorflow) (3.10.0.2)\n",
      "Requirement already satisfied: astunparse>=1.6.0 in /home/thiago/anaconda3/lib/python3.9/site-packages (from tensorflow) (1.6.3)\n",
      "Requirement already satisfied: tensorboard<2.9,>=2.8 in /home/thiago/anaconda3/lib/python3.9/site-packages (from tensorflow) (2.8.0)\n",
      "Requirement already satisfied: gast>=0.2.1 in /home/thiago/anaconda3/lib/python3.9/site-packages (from tensorflow) (0.5.3)\n",
      "Requirement already satisfied: setuptools in /home/thiago/anaconda3/lib/python3.9/site-packages (from tensorflow) (58.0.4)\n",
      "Requirement already satisfied: numpy>=1.20 in /home/thiago/anaconda3/lib/python3.9/site-packages (from tensorflow) (1.20.3)\n",
      "Requirement already satisfied: six>=1.12.0 in /home/thiago/anaconda3/lib/python3.9/site-packages (from tensorflow) (1.16.0)\n",
      "Requirement already satisfied: tensorflow-io-gcs-filesystem>=0.23.1 in /home/thiago/anaconda3/lib/python3.9/site-packages (from tensorflow) (0.24.0)\n",
      "Requirement already satisfied: termcolor>=1.1.0 in /home/thiago/anaconda3/lib/python3.9/site-packages (from tensorflow) (1.1.0)\n",
      "Requirement already satisfied: tf-estimator-nightly==2.8.0.dev2021122109 in /home/thiago/anaconda3/lib/python3.9/site-packages (from tensorflow) (2.8.0.dev2021122109)\n",
      "Requirement already satisfied: libclang>=9.0.1 in /home/thiago/anaconda3/lib/python3.9/site-packages (from tensorflow) (13.0.0)\n",
      "Requirement already satisfied: keras-preprocessing>=1.1.1 in /home/thiago/anaconda3/lib/python3.9/site-packages (from tensorflow) (1.1.2)\n",
      "Requirement already satisfied: grpcio<2.0,>=1.24.3 in /home/thiago/anaconda3/lib/python3.9/site-packages (from tensorflow) (1.44.0)\n",
      "Requirement already satisfied: google-pasta>=0.1.1 in /home/thiago/anaconda3/lib/python3.9/site-packages (from tensorflow) (0.2.0)\n",
      "Requirement already satisfied: flatbuffers>=1.12 in /home/thiago/anaconda3/lib/python3.9/site-packages (from tensorflow) (2.0)\n",
      "Requirement already satisfied: opt-einsum>=2.3.2 in /home/thiago/anaconda3/lib/python3.9/site-packages (from tensorflow) (3.3.0)\n",
      "Requirement already satisfied: keras<2.9,>=2.8.0rc0 in /home/thiago/anaconda3/lib/python3.9/site-packages (from tensorflow) (2.8.0)\n",
      "Requirement already satisfied: wheel<1.0,>=0.23.0 in /home/thiago/anaconda3/lib/python3.9/site-packages (from astunparse>=1.6.0->tensorflow) (0.37.0)\n",
      "Requirement already satisfied: werkzeug>=0.11.15 in /home/thiago/anaconda3/lib/python3.9/site-packages (from tensorboard<2.9,>=2.8->tensorflow) (2.0.2)\n",
      "Requirement already satisfied: google-auth<3,>=1.6.3 in /home/thiago/anaconda3/lib/python3.9/site-packages (from tensorboard<2.9,>=2.8->tensorflow) (2.6.0)\n",
      "Requirement already satisfied: requests<3,>=2.21.0 in /home/thiago/anaconda3/lib/python3.9/site-packages (from tensorboard<2.9,>=2.8->tensorflow) (2.26.0)\n",
      "Requirement already satisfied: google-auth-oauthlib<0.5,>=0.4.1 in /home/thiago/anaconda3/lib/python3.9/site-packages (from tensorboard<2.9,>=2.8->tensorflow) (0.4.6)\n",
      "Requirement already satisfied: tensorboard-plugin-wit>=1.6.0 in /home/thiago/anaconda3/lib/python3.9/site-packages (from tensorboard<2.9,>=2.8->tensorflow) (1.8.1)\n",
      "Requirement already satisfied: markdown>=2.6.8 in /home/thiago/anaconda3/lib/python3.9/site-packages (from tensorboard<2.9,>=2.8->tensorflow) (3.3.6)\n",
      "Requirement already satisfied: tensorboard-data-server<0.7.0,>=0.6.0 in /home/thiago/anaconda3/lib/python3.9/site-packages (from tensorboard<2.9,>=2.8->tensorflow) (0.6.1)\n",
      "Requirement already satisfied: rsa<5,>=3.1.4 in /home/thiago/anaconda3/lib/python3.9/site-packages (from google-auth<3,>=1.6.3->tensorboard<2.9,>=2.8->tensorflow) (4.8)\n",
      "Requirement already satisfied: pyasn1-modules>=0.2.1 in /home/thiago/anaconda3/lib/python3.9/site-packages (from google-auth<3,>=1.6.3->tensorboard<2.9,>=2.8->tensorflow) (0.2.8)\n",
      "Requirement already satisfied: cachetools<6.0,>=2.0.0 in /home/thiago/anaconda3/lib/python3.9/site-packages (from google-auth<3,>=1.6.3->tensorboard<2.9,>=2.8->tensorflow) (5.0.0)\n",
      "Requirement already satisfied: requests-oauthlib>=0.7.0 in /home/thiago/anaconda3/lib/python3.9/site-packages (from google-auth-oauthlib<0.5,>=0.4.1->tensorboard<2.9,>=2.8->tensorflow) (1.3.1)\n",
      "Requirement already satisfied: importlib-metadata>=4.4 in /home/thiago/anaconda3/lib/python3.9/site-packages (from markdown>=2.6.8->tensorboard<2.9,>=2.8->tensorflow) (4.8.1)\n",
      "Requirement already satisfied: zipp>=0.5 in /home/thiago/anaconda3/lib/python3.9/site-packages (from importlib-metadata>=4.4->markdown>=2.6.8->tensorboard<2.9,>=2.8->tensorflow) (3.6.0)\n",
      "Requirement already satisfied: pyasn1<0.5.0,>=0.4.6 in /home/thiago/anaconda3/lib/python3.9/site-packages (from pyasn1-modules>=0.2.1->google-auth<3,>=1.6.3->tensorboard<2.9,>=2.8->tensorflow) (0.4.8)\n",
      "Requirement already satisfied: certifi>=2017.4.17 in /home/thiago/anaconda3/lib/python3.9/site-packages (from requests<3,>=2.21.0->tensorboard<2.9,>=2.8->tensorflow) (2021.10.8)\n",
      "Requirement already satisfied: idna<4,>=2.5 in /home/thiago/anaconda3/lib/python3.9/site-packages (from requests<3,>=2.21.0->tensorboard<2.9,>=2.8->tensorflow) (3.2)\n",
      "Requirement already satisfied: urllib3<1.27,>=1.21.1 in /home/thiago/anaconda3/lib/python3.9/site-packages (from requests<3,>=2.21.0->tensorboard<2.9,>=2.8->tensorflow) (1.26.7)\n",
      "Requirement already satisfied: charset-normalizer~=2.0.0 in /home/thiago/anaconda3/lib/python3.9/site-packages (from requests<3,>=2.21.0->tensorboard<2.9,>=2.8->tensorflow) (2.0.4)\n",
      "Requirement already satisfied: oauthlib>=3.0.0 in /home/thiago/anaconda3/lib/python3.9/site-packages (from requests-oauthlib>=0.7.0->google-auth-oauthlib<0.5,>=0.4.1->tensorboard<2.9,>=2.8->tensorflow) (3.2.0)\n",
      "Note: you may need to restart the kernel to use updated packages.\n"
     ]
    }
   ],
   "source": [
    "pip install tensorflow"
   ]
  },
  {
   "cell_type": "code",
   "execution_count": 2,
   "id": "354fbda8",
   "metadata": {},
   "outputs": [
    {
     "name": "stderr",
     "output_type": "stream",
     "text": [
      "2022-03-10 14:53:34.157315: W tensorflow/stream_executor/platform/default/dso_loader.cc:64] Could not load dynamic library 'libcudart.so.11.0'; dlerror: libcudart.so.11.0: cannot open shared object file: No such file or directory\n",
      "2022-03-10 14:53:34.157337: I tensorflow/stream_executor/cuda/cudart_stub.cc:29] Ignore above cudart dlerror if you do not have a GPU set up on your machine.\n"
     ]
    }
   ],
   "source": [
    "import numpy as np\n",
    "import os\n",
    "import pandas as pd\n",
    "import matplotlib.pyplot as plt\n",
    "import keras\n",
    "import tensorflow as tf\n",
    "from tensorflow.keras.layers import Dense, Dropout, Input, InputLayer, Conv2D,UpSampling2D , Flatten,MaxPooling2D,Conv2DTranspose\n",
    "from tensorflow.keras.models import Model,Sequential\n",
    "from tensorflow.keras.optimizers import Adam\n",
    "from tensorflow.keras import layers\n",
    "from PIL import Image\n",
    "import random\n",
    "from math import ceil"
   ]
  },
  {
   "cell_type": "code",
   "execution_count": 3,
   "id": "c80ff1a7",
   "metadata": {},
   "outputs": [
    {
     "data": {
      "text/plain": [
       "['Artificially-Blurred', 'Undistorted', 'Naturally-Blurred']"
      ]
     },
     "execution_count": 3,
     "metadata": {},
     "output_type": "execute_result"
    }
   ],
   "source": [
    "os.chdir('/home/thiago/Documents/Projects/CERTH_ImageBlurDataset/TrainingSet')\n",
    "os.curdir   \n",
    "os.listdir()    "
   ]
  },
  {
   "cell_type": "code",
   "execution_count": 4,
   "id": "9c8d1c08",
   "metadata": {},
   "outputs": [],
   "source": [
    "init_size=100\n",
    "folders=os.listdir()\n",
    "filelist=[]\n",
    "fake_data=[]\n",
    "real_data=[]\n",
    "for i in folders[0:3]:\n",
    "    files=os.listdir(i)\n",
    "    for j in files:\n",
    "        im = Image.open(i+'/'+j) \n",
    "        width = 50   \n",
    "        height = 50 \n",
    "        im5 = im.resize((width, height), Image.ANTIALIAS)   \n",
    "        x=np.asarray(im5)  \n",
    "        x =(x-x.mean())/255.0\n",
    "        fake_data.append(x)"
   ]
  },
  {
   "cell_type": "code",
   "execution_count": 5,
   "id": "a99d3410",
   "metadata": {},
   "outputs": [],
   "source": [
    "for i in folders[2:]:\n",
    "    files1=os.listdir(i)\n",
    "    for j in files1:\n",
    "        im = Image.open(i+'/'+j) \n",
    "        width = 50\n",
    "        height = 50\n",
    "        im5 = im.resize((width, height), Image.LANCZOS)  \n",
    "        x=np.asarray(im5)\n",
    "        x =(x-x.mean())/255.0\n",
    "        real_data.append(x)"
   ]
  },
  {
   "cell_type": "code",
   "execution_count": 6,
   "id": "a267094f",
   "metadata": {},
   "outputs": [
    {
     "name": "stderr",
     "output_type": "stream",
     "text": [
      "Clipping input data to the valid range for imshow with RGB data ([0..1] for floats or [0..255] for integers).\n"
     ]
    },
    {
     "data": {
      "text/plain": [
       "<matplotlib.image.AxesImage at 0x7f14fd0e1340>"
      ]
     },
     "execution_count": 6,
     "metadata": {},
     "output_type": "execute_result"
    },
    {
     "data": {
      "image/png": "[encoded data removed]",
      "text/plain": [
       "<Figure size 432x288 with 1 Axes>"
      ]
     },
     "metadata": {
      "needs_background": "light"
     },
     "output_type": "display_data"
    }
   ],
   "source": [
    "fake_data= np.asarray(fake_data)     \n",
    "plt.imshow(fake_data[70], interpolation='nearest')"
   ]
  },
  {
   "cell_type": "code",
   "execution_count": 7,
   "id": "ba92c5bc",
   "metadata": {},
   "outputs": [
    {
     "name": "stderr",
     "output_type": "stream",
     "text": [
      "Clipping input data to the valid range for imshow with RGB data ([0..1] for floats or [0..255] for integers).\n"
     ]
    },
    {
     "data": {
      "text/plain": [
       "<matplotlib.image.AxesImage at 0x7f14fc85bb50>"
      ]
     },
     "execution_count": 7,
     "metadata": {},
     "output_type": "execute_result"
    },
    {
     "data": {
      "image/png": "[encoded data removed]",
      "text/plain": [
       "<Figure size 432x288 with 1 Axes>"
      ]
     },
     "metadata": {
      "needs_background": "light"
     },
     "output_type": "display_data"
    }
   ],
   "source": [
    "real_data= np.asarray(real_data)      \n",
    "plt.imshow(real_data[50], interpolation='nearest')"
   ]
  },
  {
   "cell_type": "code",
   "execution_count": 8,
   "id": "32a9bc78",
   "metadata": {},
   "outputs": [],
   "source": [
    "def adam_optimizer():\n",
    "    return Adam(lr=0.001, beta_1=0.9, beta_2=0.999)"
   ]
  },
  {
   "cell_type": "code",
   "execution_count": 9,
   "id": "ced9f516",
   "metadata": {},
   "outputs": [
    {
     "name": "stdout",
     "output_type": "stream",
     "text": [
      "Model: \"sequential\"\n",
      "_________________________________________________________________\n",
      " Layer (type)                Output Shape              Param #   \n",
      "=================================================================\n",
      " conv2d (Conv2D)             (None, 25, 50, 32)        12832     \n",
      "                                                                 \n",
      " leaky_re_lu (LeakyReLU)     (None, 25, 50, 32)        0         \n",
      "                                                                 \n",
      " dropout (Dropout)           (None, 25, 50, 32)        0         \n",
      "                                                                 \n",
      " conv2d_1 (Conv2D)           (None, 25, 50, 32)        4128      \n",
      "                                                                 \n",
      " leaky_re_lu_1 (LeakyReLU)   (None, 25, 50, 32)        0         \n",
      "                                                                 \n",
      " dropout_1 (Dropout)         (None, 25, 50, 32)        0         \n",
      "                                                                 \n",
      " conv2d_2 (Conv2D)           (None, 25, 50, 32)        9248      \n",
      "                                                                 \n",
      " up_sampling2d (UpSampling2D  (None, 50, 50, 32)       0         \n",
      " )                                                               \n"
     ]
    },
    {
     "name": "stderr",
     "output_type": "stream",
     "text": [
      "2022-03-10 14:56:58.854809: W tensorflow/stream_executor/platform/default/dso_loader.cc:64] Could not load dynamic library 'libcuda.so.1'; dlerror: libcuda.so.1: cannot open shared object file: No such file or directory\n",
      "2022-03-10 14:56:58.854845: W tensorflow/stream_executor/cuda/cuda_driver.cc:269] failed call to cuInit: UNKNOWN ERROR (303)\n",
      "2022-03-10 14:56:58.854870: I tensorflow/stream_executor/cuda/cuda_diagnostics.cc:156] kernel driver does not appear to be running on this host (Thiago-PC): /proc/driver/nvidia/version does not exist\n",
      "2022-03-10 14:56:58.855049: I tensorflow/core/platform/cpu_feature_guard.cc:151] This TensorFlow binary is optimized with oneAPI Deep Neural Network Library (oneDNN) to use the following CPU instructions in performance-critical operations:  AVX2 FMA\n",
      "To enable them in other operations, rebuild TensorFlow with the appropriate compiler flags.\n",
      "/home/thiago/anaconda3/lib/python3.9/site-packages/keras/optimizer_v2/adam.py:105: UserWarning: The `lr` argument is deprecated, use `learning_rate` instead.\n",
      "  super(Adam, self).__init__(name, **kwargs)\n"
     ]
    },
    {
     "name": "stdout",
     "output_type": "stream",
     "text": [
      "                                                                 \n",
      " conv2d_3 (Conv2D)           (None, 50, 50, 3)         2403      \n",
      "                                                                 \n",
      " dense (Dense)               (None, 50, 50, 3)         12        \n",
      "                                                                 \n",
      "=================================================================\n",
      "Total params: 28,623\n",
      "Trainable params: 28,623\n",
      "Non-trainable params: 0\n",
      "_________________________________________________________________\n"
     ]
    }
   ],
   "source": [
    "def create_generator():\n",
    "    generator=tf.keras.models.Sequential()\n",
    "    generator.add(InputLayer(input_shape=(50,100,100)))\n",
    "    \n",
    "    generator.add(Conv2D(32, (2, 2), activation='tanh', padding='same', strides=2))\n",
    "    generator.add(layers.LeakyReLU(0.6))\n",
    "    generator.add(layers.Dropout(0.4))\n",
    "    \n",
    "    generator.add(Conv2D(32, (2, 2), activation='tanh', padding='same'))\n",
    "    generator.add(layers.LeakyReLU(0.3))\n",
    "    generator.add(layers.Dropout(0.2))\n",
    "    \n",
    "    generator.add(Conv2D(32, (3, 3), activation='tanh', padding='same'))\n",
    "    generator.add(UpSampling2D((2, 1)))\n",
    "    generator.add(Conv2D(3, (5, 5), activation='tanh', padding='same'))\n",
    "    \n",
    "    generator.add(layers.Dense(units=3, activation='tanh'))\n",
    "    generator.compile(loss='binary_crossentropy', optimizer=adam_optimizer())\n",
    "    return generator\n",
    "\n",
    "g=create_generator()\n",
    "g.summary()"
   ]
  },
  {
   "cell_type": "code",
   "execution_count": 10,
   "id": "24e93fe8",
   "metadata": {},
   "outputs": [
    {
     "name": "stdout",
     "output_type": "stream",
     "text": [
      "Model: \"sequential_1\"\n",
      "_________________________________________________________________\n",
      " Layer (type)                Output Shape              Param #   \n",
      "=================================================================\n",
      " conv2d_4 (Conv2D)           (None, 25, 25, 10)        130       \n",
      "                                                                 \n",
      " dense_1 (Dense)             (None, 25, 25, 100)       1100      \n",
      "                                                                 \n",
      " leaky_re_lu_2 (LeakyReLU)   (None, 25, 25, 100)       0         \n",
      "                                                                 \n",
      " dropout_2 (Dropout)         (None, 25, 25, 100)       0         \n",
      "                                                                 \n",
      " conv2d_5 (Conv2D)           (None, 13, 13, 10)        9010      \n",
      "                                                                 \n",
      " dense_2 (Dense)             (None, 13, 13, 50)        550       \n",
      "                                                                 \n",
      " leaky_re_lu_3 (LeakyReLU)   (None, 13, 13, 50)        0         \n",
      "                                                                 \n",
      " dropout_3 (Dropout)         (None, 13, 13, 50)        0         \n",
      "                                                                 \n",
      " conv2d_6 (Conv2D)           (None, 7, 7, 10)          4510      \n",
      "                                                                 \n",
      " dense_3 (Dense)             (None, 7, 7, 25)          275       \n",
      "                                                                 \n",
      " leaky_re_lu_4 (LeakyReLU)   (None, 7, 7, 25)          0         \n",
      "                                                                 \n",
      " dropout_4 (Dropout)         (None, 7, 7, 25)          0         \n",
      "                                                                 \n",
      " conv2d_7 (Conv2D)           (None, 3, 3, 1)           401       \n",
      "                                                                 \n",
      " max_pooling2d (MaxPooling2D  (None, 1, 1, 1)          0         \n",
      " )                                                               \n",
      "                                                                 \n",
      " flatten (Flatten)           (None, 1)                 0         \n",
      "                                                                 \n",
      "=================================================================\n",
      "Total params: 15,976\n",
      "Trainable params: 15,976\n",
      "Non-trainable params: 0\n",
      "_________________________________________________________________\n"
     ]
    }
   ],
   "source": [
    "def create_discriminator():\n",
    "    discriminator=tf.keras.models.Sequential()\n",
    "    discriminator.add(InputLayer(input_shape=(50,50,3)))\n",
    "    \n",
    "    discriminator.add(Conv2D(10, (2, 2), activation='tanh', padding='same', strides=2))\n",
    "    discriminator.add(layers.Dense(units=100))\n",
    "    discriminator.add(layers.LeakyReLU(0.2))\n",
    "    discriminator.add(layers.Dropout(0.3))\n",
    "    \n",
    "    discriminator.add(Conv2D(10, (3, 3), activation='tanh', padding='same', strides=2))\n",
    "    discriminator.add(layers.Dense(units=50))\n",
    "    discriminator.add(layers.LeakyReLU(0.2))\n",
    "    discriminator.add(layers.Dropout(0.3))\n",
    "    \n",
    "    discriminator.add(Conv2D(10, (3, 3), activation='tanh', padding='same', strides=2))\n",
    "    discriminator.add(layers.Dense(units=25))\n",
    "    discriminator.add(layers.LeakyReLU(0.2))\n",
    "    discriminator.add(layers.Dropout(0.3))\n",
    "    \n",
    "    discriminator.add(Conv2D(1, (4, 4), activation='sigmoid', padding='same', strides=3))  \n",
    "    #discriminator.add(Conv2D(1, (4, 4), activation='tanh', padding='same')) \n",
    "    discriminator.add(MaxPooling2D(pool_size = (2, 3)))\n",
    "    #discriminator.add(Conv2DTranspose(1, (2,2), strides=(2,2)))\n",
    "    discriminator.add(Flatten())\n",
    "    discriminator.compile(loss='binary_crossentropy', optimizer=adam_optimizer())\n",
    "    return discriminator\n",
    "\n",
    "d =create_discriminator()\n",
    "d.summary()"
   ]
  },
  {
   "cell_type": "code",
   "execution_count": 11,
   "id": "e5d5219d",
   "metadata": {},
   "outputs": [],
   "source": [
    "def create_gan(discriminator, generator):\n",
    "    d.trainable=False    \n",
    "    gan_input = Input(shape=(None,100,100))   \n",
    "    x = g(gan_input)\n",
    "    gan_output= d(x)\n",
    "    gan= Model(inputs=gan_input, outputs=gan_output)\n",
    "    gan.compile(loss='binary_crossentropy', optimizer='adam')\n",
    "    return gan"
   ]
  },
  {
   "cell_type": "code",
   "execution_count": 12,
   "id": "4f24bda2",
   "metadata": {},
   "outputs": [
    {
     "name": "stdout",
     "output_type": "stream",
     "text": [
      "Model: \"model\"\n",
      "_________________________________________________________________\n",
      " Layer (type)                Output Shape              Param #   \n",
      "=================================================================\n",
      " input_3 (InputLayer)        [(None, None, 100, 100)]  0         \n",
      "                                                                 \n",
      " sequential (Sequential)     (None, 50, 50, 3)         28623     \n",
      "                                                                 \n",
      " sequential_1 (Sequential)   (None, 1)                 15976     \n",
      "                                                                 \n",
      "=================================================================\n",
      "Total params: 44,599\n",
      "Trainable params: 28,623\n",
      "Non-trainable params: 15,976\n",
      "_________________________________________________________________\n"
     ]
    }
   ],
   "source": [
    "gan = create_gan(d,g)\n",
    "gan.summary()  \n"
   ]
  },
  {
   "cell_type": "code",
   "execution_count": 18,
   "id": "58ea05cb",
   "metadata": {},
   "outputs": [
    {
     "name": "stdout",
     "output_type": "stream",
     "text": [
      "0\n",
      "1\n"
     ]
    }
   ],
   "source": [
    "i=0  \n",
    "epoch_num=1   \n",
    "batches=2    \n",
    "for epoch in range(epoch_num):\n",
    "    i=i+1\n",
    "    for index in range(batches):\n",
    "        # [Batch Preparation]\n",
    "        print(index)\n",
    "        noise= np.random.normal(0,1, [batches,50,100,100])\n",
    "        noise = tf.cast(noise, tf.float32)\n",
    "    \n",
    "        # Generate fake inputs\n",
    "        gen_images = g.predict(x=noise,steps=None)\n",
    "        y_gen = np.ones(gen_images.shape[0])  \n",
    "        ran_real_image =real_data[np.random.randint(low=0,high=real_data.shape[0],size=batches)] #get random set of real images\n",
    "        ran_fake_image =real_data[np.random.randint(low=0,high=real_data.shape[0],size=batches)]#get random set of fake images"
   ]
  },
  {
   "cell_type": "code",
   "execution_count": 19,
   "id": "b88223f7",
   "metadata": {},
   "outputs": [
    {
     "name": "stderr",
     "output_type": "stream",
     "text": [
      "Clipping input data to the valid range for imshow with RGB data ([0..1] for floats or [0..255] for integers).\n",
      "Clipping input data to the valid range for imshow with RGB data ([0..1] for floats or [0..255] for integers).\n"
     ]
    },
    {
     "data": {
      "image/png": "[encoded data removed]",
      "text/plain": [
       "<Figure size 1440x1440 with 2 Axes>"
      ]
     },
     "metadata": {
      "needs_background": "light"
     },
     "output_type": "display_data"
    }
   ],
   "source": [
    "dim=(20,20)\n",
    "figsize=(20,20)    \n",
    "plt.figure(figsize=figsize)\n",
    "for i in range(gen_images.shape[0]):\n",
    "    plt.subplot(dim[0], dim[1], i+1)\n",
    "    plt.imshow(gen_images[i]*256, interpolation='nearest')\n",
    "    plt.axis('off')\n",
    "    plt.tight_layout()    \n",
    "    os.chdir('/home/thiago/Documents/Projects/CERTH_ImageBlurDataset/output')\n",
    "    plt.savefig('actual'+str(i)+'.png') "
   ]
  },
  {
   "cell_type": "code",
   "execution_count": 20,
   "id": "3001f8bd",
   "metadata": {},
   "outputs": [],
   "source": [
    "result = Image.fromarray((gen_images[1]*256).astype(np.uint8))   \n",
    "os.chdir('/home/thiago/Documents/Projects/CERTH_ImageBlurDataset/output')      \n",
    "result.save('actual.png')      \n",
    "a=(gen_images[1]*255.0).astype(np.uint8)"
   ]
  },
  {
   "cell_type": "code",
   "execution_count": null,
   "id": "f3d37a1b",
   "metadata": {},
   "outputs": [],
   "source": []
  }
 ],
 "metadata": {
  "kernelspec": {
   "display_name": "Python 3 (ipykernel)",
   "language": "python",
   "name": "python3"
  },
  "language_info": {
   "codemirror_mode": {
    "name": "ipython",
    "version": 3
   },
   "file_extension": ".py",
   "mimetype": "text/x-python",
   "name": "python",
   "nbconvert_exporter": "python",
   "pygments_lexer": "ipython3",
   "version": "3.9.7"
  }
 },
 "nbformat": 4,
 "nbformat_minor": 5
}
